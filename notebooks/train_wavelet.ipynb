{
 "cells": [
  {
   "cell_type": "code",
   "execution_count": null,
   "metadata": {},
   "outputs": [],
   "source": [
    "train_image_arr_wavelet = []\n",
    "\n",
    "for i in range(len(train_image_arr)):\n",
    "    coeffs2 = pywt.dwt2(train_image_arr[i], 'bior1.3')\n",
    "    LL, (LH, HL, HH) = coeffs2\n",
    "    train_image_arr_wavelet.append(LH)"
   ]
  }
 ],
 "metadata": {
  "language_info": {
   "name": "python"
  }
 },
 "nbformat": 4,
 "nbformat_minor": 2
}
