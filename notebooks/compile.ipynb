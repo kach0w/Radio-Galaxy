{
 "cells": [
  {
   "cell_type": "code",
   "execution_count": 8,
   "metadata": {},
   "outputs": [
    {
     "name": "stdout",
     "output_type": "stream",
     "text": [
      "Requirement already satisfied: torch in c:\\users\\kar\\anaconda3\\envs\\asdfs\\lib\\site-packages (2.2.1)\n",
      "Requirement already satisfied: torchvision in c:\\users\\kar\\anaconda3\\envs\\asdfs\\lib\\site-packages (0.17.1)\n",
      "Requirement already satisfied: torchsummary in c:\\users\\kar\\anaconda3\\envs\\asdfs\\lib\\site-packages (1.5.1)\n",
      "Requirement already satisfied: filelock in c:\\users\\kar\\anaconda3\\envs\\asdfs\\lib\\site-packages (from torch) (3.13.1)\n",
      "Requirement already satisfied: typing-extensions>=4.8.0 in c:\\users\\kar\\anaconda3\\envs\\asdfs\\lib\\site-packages (from torch) (4.9.0)\n",
      "Requirement already satisfied: sympy in c:\\users\\kar\\anaconda3\\envs\\asdfs\\lib\\site-packages (from torch) (1.12)\n",
      "Requirement already satisfied: networkx in c:\\users\\kar\\anaconda3\\envs\\asdfs\\lib\\site-packages (from torch) (3.2.1)\n",
      "Requirement already satisfied: jinja2 in c:\\users\\kar\\anaconda3\\envs\\asdfs\\lib\\site-packages (from torch) (3.1.3)\n",
      "Requirement already satisfied: fsspec in c:\\users\\kar\\anaconda3\\envs\\asdfs\\lib\\site-packages (from torch) (2024.2.0)\n",
      "Requirement already satisfied: numpy in c:\\users\\kar\\anaconda3\\envs\\asdfs\\lib\\site-packages (from torchvision) (1.26.4)\n",
      "Requirement already satisfied: pillow!=8.3.*,>=5.3.0 in c:\\users\\kar\\anaconda3\\envs\\asdfs\\lib\\site-packages (from torchvision) (10.2.0)\n",
      "Requirement already satisfied: MarkupSafe>=2.0 in c:\\users\\kar\\anaconda3\\envs\\asdfs\\lib\\site-packages (from jinja2->torch) (2.1.3)\n",
      "Requirement already satisfied: mpmath>=0.19 in c:\\users\\kar\\anaconda3\\envs\\asdfs\\lib\\site-packages (from sympy->torch) (1.3.0)\n",
      "Note: you may need to restart the kernel to use updated packages.\n"
     ]
    }
   ],
   "source": [
    "%pip install torch torchvision torchsummary\n",
    "import cv2 as cv\n",
    "import matplotlib.pyplot as plt\n",
    "import numpy as np\n",
    "import torch\n",
    "import torchvision\n",
    "import torchvision.transforms as transforms\n",
    "from torchsummary import summary\n",
    "import json\n",
    "import os\n",
    "from MiraBest_Goof import MiraBest"
   ]
  },
  {
   "cell_type": "code",
   "execution_count": 9,
   "metadata": {},
   "outputs": [],
   "source": [
    "transform = transforms.Compose(\n",
    "    [transforms.ToTensor(),\n",
    "     transforms.Normalize([0.5],[0.5])])"
   ]
  },
  {
   "cell_type": "code",
   "execution_count": 75,
   "metadata": {},
   "outputs": [
    {
     "name": "stdout",
     "output_type": "stream",
     "text": [
      "Files already downloaded and verified\n"
     ]
    }
   ],
   "source": [
    "trainset = MiraBest(root='../batches', train=True, download=True, transform=transform)  \n",
    "batch_size_train = 2\n",
    "trainloader = torch.utils.data.DataLoader(trainset, batch_size=batch_size_train, shuffle=True, num_workers=2)"
   ]
  },
  {
   "cell_type": "code",
   "execution_count": 76,
   "metadata": {},
   "outputs": [
    {
     "name": "stdout",
     "output_type": "stream",
     "text": [
      "Files already downloaded and verified\n"
     ]
    }
   ],
   "source": [
    "testset = MiraBest(root='../batches', train=False, download=True, transform=transform) \n",
    "batch_size_test = 2\n",
    "testloader = torch.utils.data.DataLoader(testset, batch_size=batch_size_test, shuffle=True, num_workers=2)"
   ]
  },
  {
   "cell_type": "code",
   "execution_count": 200,
   "metadata": {},
   "outputs": [
    {
     "name": "stdout",
     "output_type": "stream",
     "text": [
      "77\n",
      "693\n"
     ]
    }
   ],
   "source": [
    "test_len = 0\n",
    "for i, data in enumerate(testloader, 0):\n",
    "    x, y = data\n",
    "    test_len += x.shape[0]\n",
    "train_len = 0\n",
    "for i, data in enumerate(trainloader, 0):\n",
    "    x, y = data\n",
    "    train_len += x.shape[0]\n",
    "print(test_len)\n",
    "print(train_len)\n"
   ]
  },
  {
   "cell_type": "code",
   "execution_count": 201,
   "metadata": {},
   "outputs": [],
   "source": [
    "dataset_sizes = {\"train\": train_len, \"test\": test_len}"
   ]
  },
  {
   "cell_type": "code",
   "execution_count": 373,
   "metadata": {},
   "outputs": [],
   "source": [
    "import torch.nn as nn\n",
    "import torch.nn.functional as F\n",
    "import torch.optim as optim\n",
    "class Net(nn.Module):\n",
    "    def __init__(self):\n",
    "        super(Net, self).__init__()\n",
    "\n",
    "        self.conv1 = nn.Conv2d(1, 3, 3)\n",
    "        self.conv2 = nn.Conv2d(3, 3, 3)\n",
    "        # self.fc1 = nn.Linear(16 * 73 * 73, 120) \n",
    "        # self.fc2 = nn.Linear(120, 84)\n",
    "        self.fc3 = nn.Linear(3*36*36, 2) \n",
    "\n",
    "    def forward(self, x):\n",
    "        x = F.max_pool2d(F.relu(self.conv1(x)), (2, 2))\n",
    "        x = F.max_pool2d(F.relu(self.conv2(x)), (2, 2))\n",
    "        x = x.view(-1, 3*36*36)\n",
    "        # x = F.relu(self.fc2(x))\n",
    "        x = self.fc3(x)\n",
    "        return x"
   ]
  },
  {
   "cell_type": "code",
   "execution_count": 374,
   "metadata": {},
   "outputs": [
    {
     "name": "stdout",
     "output_type": "stream",
     "text": [
      "----------------------------------------------------------------\n",
      "        Layer (type)               Output Shape         Param #\n",
      "================================================================\n",
      "            Conv2d-1          [-1, 3, 148, 148]              30\n",
      "            Conv2d-2            [-1, 3, 72, 72]              84\n",
      "            Linear-3                    [-1, 2]           7,778\n",
      "================================================================\n",
      "Total params: 7,892\n",
      "Trainable params: 7,892\n",
      "Non-trainable params: 0\n",
      "----------------------------------------------------------------\n",
      "Input size (MB): 0.09\n",
      "Forward/backward pass size (MB): 0.62\n",
      "Params size (MB): 0.03\n",
      "Estimated Total Size (MB): 0.74\n",
      "----------------------------------------------------------------\n"
     ]
    }
   ],
   "source": [
    "net = Net()\n",
    "summary(net,(1,150,150))\n",
    "loss = nn.CrossEntropyLoss()\n",
    "optimizer = optim.Adagrad(net.parameters(), lr=0.01)"
   ]
  },
  {
   "cell_type": "code",
   "execution_count": 375,
   "metadata": {},
   "outputs": [
    {
     "data": {
      "image/png": "[encoded data removed]",
      "text/plain": [
       "<Figure size 640x480 with 2 Axes>"
      ]
     },
     "metadata": {},
     "output_type": "display_data"
    }
   ],
   "source": [
    "x_epoch = []\n",
    "fig = plt.figure()\n",
    "ax0 = fig.add_subplot(121, title=\"loss\")\n",
    "ax1 = fig.add_subplot(122, title=\"acc\")\n",
    "\n",
    "y_loss = {}\n",
    "y_loss[\"train\"] = []\n",
    "y_loss[\"test\"] = []\n",
    "y_acc = {}\n",
    "y_acc[\"train\"] = []\n",
    "y_acc[\"test\"] = []\n",
    "#https://sybernix.medium.com/drawing-loss-curves-for-deep-neural-network-training-in-pytorch-ac617b24c388\n",
    "\n",
    "def draw_curve():\n",
    "    ax0.plot(x_epoch, y_loss['train'], 'bo-', label='train')\n",
    "    ax0.plot(x_epoch, y_loss['test'], 'ro-', label='test')\n",
    "    ax1.plot(x_epoch, y_acc['train'], 'bo-', label='train')\n",
    "    ax1.plot(x_epoch, y_acc['test'], 'ro-', label='test')\n",
    "    file_name = \"train_\" + str(len(x_epoch)) + \".jpg\"\n",
    "    fig.savefig(os.path.join('../lossGraphs', file_name))"
   ]
  },
  {
   "cell_type": "code",
   "execution_count": 376,
   "metadata": {},
   "outputs": [
    {
     "name": "stdout",
     "output_type": "stream",
     "text": [
      "----------\n",
      "Epoch 1/10\n",
      "train: Loss: 0.7263 Acc: 0.5368\n",
      "test: Loss: 0.6903 Acc: 0.5584\n",
      "----------\n",
      "Epoch 2/10\n",
      "train: Loss: 0.6907 Acc: 0.5584\n",
      "test: Loss: 0.6798 Acc: 0.5584\n",
      "----------\n",
      "Epoch 3/10\n",
      "train: Loss: 0.6778 Acc: 0.5945\n",
      "test: Loss: 0.6577 Acc: 0.5584\n",
      "----------\n",
      "Epoch 4/10\n",
      "train: Loss: 0.6554 Acc: 0.6277\n",
      "test: Loss: 0.6194 Acc: 0.7273\n",
      "----------\n",
      "Epoch 5/10\n",
      "train: Loss: 0.6230 Acc: 0.6638\n",
      "test: Loss: 0.6027 Acc: 0.7273\n",
      "----------\n",
      "Epoch 6/10\n",
      "train: Loss: 0.5941 Acc: 0.6825\n",
      "test: Loss: 0.5869 Acc: 0.6494\n",
      "----------\n",
      "Epoch 7/10\n",
      "train: Loss: 0.5743 Acc: 0.6970\n",
      "test: Loss: 0.5803 Acc: 0.6623\n",
      "----------\n",
      "Epoch 8/10\n",
      "train: Loss: 0.5580 Acc: 0.6984\n",
      "test: Loss: 0.5765 Acc: 0.7143\n",
      "----------\n",
      "Epoch 9/10\n",
      "train: Loss: 0.5458 Acc: 0.7229\n",
      "test: Loss: 0.5834 Acc: 0.7013\n",
      "----------\n",
      "Epoch 10/10\n",
      "train: Loss: 0.5330 Acc: 0.7374\n",
      "test: Loss: 0.5825 Acc: 0.7013\n"
     ]
    }
   ],
   "source": [
    "for epoch in range(10):\n",
    "    print('-' * 10)\n",
    "    print('Epoch {}/{}'.format(epoch+1, 10))\n",
    "    for phase in [\"train\", \"test\"]:     \n",
    "        running_loss = 0.0\n",
    "        running_corrects = 0.0 \n",
    "        if(phase == \"train\"):\n",
    "            net.train(True)\n",
    "            for i, data in enumerate(trainloader, 0):\n",
    "                images, labels = data\n",
    "                now_batch_size, c, h, w = images.shape\n",
    "                optimizer.zero_grad()\n",
    "                outputs = net(images)\n",
    "                _, predictions = torch.max(outputs.data, 1)\n",
    "                l = loss(outputs, labels)\n",
    "                l.backward()\n",
    "                optimizer.step()\n",
    "\n",
    "                running_loss += l.item() * now_batch_size\n",
    "                del l\n",
    "                running_corrects += float(torch.sum(predictions == labels.data))\n",
    "        else:\n",
    "            net.train(False)\n",
    "            for i, data in enumerate(testloader, 0):\n",
    "                images, labels = data\n",
    "                now_batch_size, c, h, w = images.shape\n",
    "                optimizer.zero_grad()\n",
    "                outputs = net(images)\n",
    "                _, predictions = torch.max(outputs.data, 1)\n",
    "                l = loss(outputs, labels)\n",
    "\n",
    "                running_loss += l.item() * now_batch_size\n",
    "                del l\n",
    "                running_corrects += float(torch.sum(predictions == labels.data))\n",
    "        epoch_loss = running_loss / dataset_sizes[phase]\n",
    "        epoch_acc = running_corrects / dataset_sizes[phase]\n",
    "\n",
    "        print('{}: Loss: {:.4f} Acc: {:.4f}'.format(phase, epoch_loss, epoch_acc))\n",
    "\n",
    "        y_loss[phase].append(epoch_loss)\n",
    "        y_acc[phase].append(epoch_acc)\n",
    "        if(phase == \"test\"):\n",
    "            x_epoch.append(epoch)\n",
    "            draw_curve()\n",
    "        "
   ]
  }
 ],
 "metadata": {
  "kernelspec": {
   "display_name": "Python 3 (ipykernel)",
   "language": "python",
   "name": "python3"
  },
  "language_info": {
   "codemirror_mode": {
    "name": "ipython",
    "version": 3
   },
   "file_extension": ".py",
   "mimetype": "text/x-python",
   "name": "python",
   "nbconvert_exporter": "python",
   "pygments_lexer": "ipython3",
   "version": "3.11.7"
  }
 },
 "nbformat": 4,
 "nbformat_minor": 2
}
