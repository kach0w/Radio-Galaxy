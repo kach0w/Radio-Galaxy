{
 "cells": [
  {
   "cell_type": "code",
   "execution_count": null,
   "metadata": {},
   "outputs": [],
   "source": [
    "%pip install opencv-python\n",
    "import cv2 as cv\n",
    "import pandas as pd\n",
    "import numpy as np\n",
    "import os\n",
    "import matplotlib.pyplot as plt \n",
    "import warnings\n",
    "warnings.filterwarnings('ignore')"
   ]
  },
  {
   "cell_type": "code",
   "execution_count": null,
   "metadata": {},
   "outputs": [],
   "source": [
    "from IPython.display import display, Image\n",
    "import json\n",
    "image_directory = r\"F:\\Karthik-Backup2023\\olddesktop-2022-23\\Programming\\ScienceFair-RadioGalaxy\\RadioGalaxyNET\\train\"\n",
    "annotations_directory = r\"F:\\Karthik-Backup2023\\olddesktop-2022-23\\Programming\\ScienceFair-RadioGalaxy\\RadioGalaxyNET\\annotations\\train.json\"\n",
    "with open(annotations_directory) as json_data:\n",
    "    data = json.load(json_data)\n",
    "\n",
    "annotations = data[\"annotations\"] \n",
    "images = data[\"images\"]"
   ]
  },
  {
   "cell_type": "code",
   "execution_count": null,
   "metadata": {},
   "outputs": [],
   "source": [
    "for i in range(len(images)):\n",
    "    id = images[i][\"id\"]\n",
    "    if(id != annotations[i][\"image_id\"]):\n",
    "        annotations.pop(i)\n",
    "annotations.pop(1959);"
   ]
  },
  {
   "cell_type": "code",
   "execution_count": null,
   "metadata": {},
   "outputs": [],
   "source": [
    "print(len(annotations))\n",
    "print(len(images))"
   ]
  },
  {
   "cell_type": "code",
   "execution_count": null,
   "metadata": {},
   "outputs": [],
   "source": [
    "df = pd.DataFrame()\n",
    "for i in range(len(images)):\n",
    "    file_name = images[i][\"file_name\"]\n",
    "    image = cv.imread(os.path.join(image_directory, file_name), cv.IMREAD_GRAYSCALE)\n",
    "    segmentation = annotations[i][\"segmentation\"]\n",
    "    bbox = annotations[i][\"bbox\"]\n",
    "    keypoints = annotations[i][\"keypoints\"]\n",
    "    label = annotations[i][\"category_id\"]\n",
    "\n",
    "    new_record = pd.DataFrame([{\"image_arr\": image, \"segmentation\": segmentation, \"bbox\": bbox, \"keypoints\": keypoints, \"label\": label}])\n",
    "    df = pd.concat([df, new_record], ignore_index=True)"
   ]
  },
  {
   "cell_type": "markdown",
   "metadata": {},
   "source": [
    "\n",
    "    \"id\": 1,\n",
    "    \"name\": \"FR-II\"\n",
    "\n",
    "    \"id\": 2,\n",
    "    \"name\": \"FR-I\"\n",
    "\n",
    "    \"id\": 3,\n",
    "    \"name\": \"FR-X\"\n",
    "\n",
    "    \"id\": 4,\n",
    "    \"name\": \"R\""
   ]
  },
  {
   "cell_type": "code",
   "execution_count": null,
   "metadata": {},
   "outputs": [],
   "source": [
    "df.head(20)"
   ]
  },
  {
   "cell_type": "code",
   "execution_count": null,
   "metadata": {},
   "outputs": [],
   "source": [
    "df.to_csv(r\"F:\\Karthik-Backup2023\\olddesktop-2022-23\\Programming\\ScienceFair-RadioGalaxy\\train.csv\", encoding='utf-8', index=False)"
   ]
  },
  {
   "cell_type": "code",
   "execution_count": 205,
   "metadata": {},
   "outputs": [
    {
     "ename": "FileNotFoundError",
     "evalue": "[Errno 2] No such file or directory: 'F:\\\\Karthik-Backup2023\\\\olddesktop-2022-23\\\\Programming\\\\ScienceFair-RadioGalaxy\\\\RadioGalaxyNET\\\\annotations\\\\train.json'",
     "output_type": "error",
     "traceback": [
      "\u001b[1;31m---------------------------------------------------------------------------\u001b[0m",
      "\u001b[1;31mFileNotFoundError\u001b[0m                         Traceback (most recent call last)",
      "Cell \u001b[1;32mIn[205], line 5\u001b[0m\n\u001b[0;32m      3\u001b[0m image_directory \u001b[38;5;241m=\u001b[39m \u001b[38;5;124mr\u001b[39m\u001b[38;5;124m\"\u001b[39m\u001b[38;5;124mF:\u001b[39m\u001b[38;5;124m\\\u001b[39m\u001b[38;5;124mKarthik-Backup2023\u001b[39m\u001b[38;5;124m\\\u001b[39m\u001b[38;5;124molddesktop-2022-23\u001b[39m\u001b[38;5;124m\\\u001b[39m\u001b[38;5;124mProgramming\u001b[39m\u001b[38;5;124m\\\u001b[39m\u001b[38;5;124mScienceFair-RadioGalaxy\u001b[39m\u001b[38;5;124m\\\u001b[39m\u001b[38;5;124mRadioGalaxyNET\u001b[39m\u001b[38;5;124m\\\u001b[39m\u001b[38;5;124mtrain\u001b[39m\u001b[38;5;124m\"\u001b[39m\n\u001b[0;32m      4\u001b[0m annotations_directory \u001b[38;5;241m=\u001b[39m \u001b[38;5;124mr\u001b[39m\u001b[38;5;124m\"\u001b[39m\u001b[38;5;124mF:\u001b[39m\u001b[38;5;124m\\\u001b[39m\u001b[38;5;124mKarthik-Backup2023\u001b[39m\u001b[38;5;124m\\\u001b[39m\u001b[38;5;124molddesktop-2022-23\u001b[39m\u001b[38;5;124m\\\u001b[39m\u001b[38;5;124mProgramming\u001b[39m\u001b[38;5;124m\\\u001b[39m\u001b[38;5;124mScienceFair-RadioGalaxy\u001b[39m\u001b[38;5;124m\\\u001b[39m\u001b[38;5;124mRadioGalaxyNET\u001b[39m\u001b[38;5;124m\\\u001b[39m\u001b[38;5;124mannotations\u001b[39m\u001b[38;5;124m\\\u001b[39m\u001b[38;5;124mtrain.json\u001b[39m\u001b[38;5;124m\"\u001b[39m\n\u001b[1;32m----> 5\u001b[0m \u001b[38;5;28;01mwith\u001b[39;00m \u001b[38;5;28;43mopen\u001b[39;49m\u001b[43m(\u001b[49m\u001b[43mannotations_directory\u001b[49m\u001b[43m)\u001b[49m \u001b[38;5;28;01mas\u001b[39;00m json_data:\n\u001b[0;32m      6\u001b[0m     data \u001b[38;5;241m=\u001b[39m json\u001b[38;5;241m.\u001b[39mload(json_data)\n\u001b[0;32m      8\u001b[0m annotations \u001b[38;5;241m=\u001b[39m data[\u001b[38;5;124m\"\u001b[39m\u001b[38;5;124mannotations\u001b[39m\u001b[38;5;124m\"\u001b[39m] \n",
      "File \u001b[1;32m~\\AppData\\Roaming\\Python\\Python311\\site-packages\\IPython\\core\\interactiveshell.py:310\u001b[0m, in \u001b[0;36m_modified_open\u001b[1;34m(file, *args, **kwargs)\u001b[0m\n\u001b[0;32m    303\u001b[0m \u001b[38;5;28;01mif\u001b[39;00m file \u001b[38;5;129;01min\u001b[39;00m {\u001b[38;5;241m0\u001b[39m, \u001b[38;5;241m1\u001b[39m, \u001b[38;5;241m2\u001b[39m}:\n\u001b[0;32m    304\u001b[0m     \u001b[38;5;28;01mraise\u001b[39;00m \u001b[38;5;167;01mValueError\u001b[39;00m(\n\u001b[0;32m    305\u001b[0m         \u001b[38;5;124mf\u001b[39m\u001b[38;5;124m\"\u001b[39m\u001b[38;5;124mIPython won\u001b[39m\u001b[38;5;124m'\u001b[39m\u001b[38;5;124mt let you open fd=\u001b[39m\u001b[38;5;132;01m{\u001b[39;00mfile\u001b[38;5;132;01m}\u001b[39;00m\u001b[38;5;124m by default \u001b[39m\u001b[38;5;124m\"\u001b[39m\n\u001b[0;32m    306\u001b[0m         \u001b[38;5;124m\"\u001b[39m\u001b[38;5;124mas it is likely to crash IPython. If you know what you are doing, \u001b[39m\u001b[38;5;124m\"\u001b[39m\n\u001b[0;32m    307\u001b[0m         \u001b[38;5;124m\"\u001b[39m\u001b[38;5;124myou can use builtins\u001b[39m\u001b[38;5;124m'\u001b[39m\u001b[38;5;124m open.\u001b[39m\u001b[38;5;124m\"\u001b[39m\n\u001b[0;32m    308\u001b[0m     )\n\u001b[1;32m--> 310\u001b[0m \u001b[38;5;28;01mreturn\u001b[39;00m \u001b[43mio_open\u001b[49m\u001b[43m(\u001b[49m\u001b[43mfile\u001b[49m\u001b[43m,\u001b[49m\u001b[43m \u001b[49m\u001b[38;5;241;43m*\u001b[39;49m\u001b[43margs\u001b[49m\u001b[43m,\u001b[49m\u001b[43m \u001b[49m\u001b[38;5;241;43m*\u001b[39;49m\u001b[38;5;241;43m*\u001b[39;49m\u001b[43mkwargs\u001b[49m\u001b[43m)\u001b[49m\n",
      "\u001b[1;31mFileNotFoundError\u001b[0m: [Errno 2] No such file or directory: 'F:\\\\Karthik-Backup2023\\\\olddesktop-2022-23\\\\Programming\\\\ScienceFair-RadioGalaxy\\\\RadioGalaxyNET\\\\annotations\\\\train.json'"
     ]
    }
   ],
   "source": [
    "from IPython.display import display, Image\n",
    "import json\n",
    "image_directory = r\"F:\\Karthik-Backup2023\\olddesktop-2022-23\\Programming\\ScienceFair-RadioGalaxy\\RadioGalaxyNET\\train\"\n",
    "annotations_directory = r\"F:\\Karthik-Backup2023\\olddesktop-2022-23\\Programming\\ScienceFair-RadioGalaxy\\RadioGalaxyNET\\annotations\\train.json\"\n",
    "with open(annotations_directory) as json_data:\n",
    "    data = json.load(json_data)\n",
    "\n",
    "annotations = data[\"annotations\"] \n",
    "images = data[\"images\"]"
   ]
  },
  {
   "cell_type": "code",
   "execution_count": null,
   "metadata": {},
   "outputs": [
    {
     "name": "stdout",
     "output_type": "stream",
     "text": [
      "1959\n",
      "1959\n"
     ]
    }
   ],
   "source": [
    "print(len(annotations))\n",
    "print(len(images))"
   ]
  },
  {
   "cell_type": "markdown",
   "metadata": {},
   "source": [
    "\n",
    "    \"id\": 1,\n",
    "    \"name\": \"FR-II\"\n",
    "\n",
    "    \"id\": 2,\n",
    "    \"name\": \"FR-I\"\n",
    "\n",
    "    \"id\": 3,\n",
    "    \"name\": \"FR-X\"\n",
    "\n",
    "    \"id\": 4,\n",
    "    \"name\": \"R\""
   ]
  },
  {
   "cell_type": "code",
   "execution_count": null,
   "metadata": {},
   "outputs": [],
   "source": [
    "df.to_csv(r\"F:\\Karthik-Backup2023\\olddesktop-2022-23\\Programming\\ScienceFair-RadioGalaxy\\train.csv\", encoding='utf-8', index=False)"
   ]
  }
 ],
 "metadata": {
  "kernelspec": {
   "display_name": "Python 3 (ipykernel)",
   "language": "python",
   "name": "python3"
  }
 },
 "nbformat": 4,
 "nbformat_minor": 2
}
